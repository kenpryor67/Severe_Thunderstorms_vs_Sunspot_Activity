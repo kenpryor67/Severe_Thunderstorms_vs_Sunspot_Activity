{
 "cells": [
  {
   "cell_type": "markdown",
   "metadata": {},
   "source": [
    "# DATA 601 Final Project\n",
    "# Severe Thunderstorm Climatology vs Sunspot Number 2019-2020\n",
    "## Python weather analysis application that compares the occurrence of severe thunderstorm activity occurring over the continental Unites States to daily international sunspot number measurements."
   ]
  },
  {
   "cell_type": "code",
   "execution_count": 10,
   "metadata": {},
   "outputs": [],
   "source": [
    "#Load modules and invoke WxData API\n",
    "from __future__ import print_function, division\n",
    "import numpy as np\n",
    "import pandas as pd \n",
    "import sys\n",
    "import requests\n",
    "import xmltodict"
   ]
  },
  {
   "cell_type": "markdown",
   "metadata": {},
   "source": [
    "## Data Cleaning: Define a function that builds a storm report listing for each semi-monthly period between November 2019 and April 2020."
   ]
  },
  {
   "cell_type": "code",
   "execution_count": 11,
   "metadata": {},
   "outputs": [],
   "source": [
    "#Function that builds a storm report listing for each semi-monthly period between November 2019 and April 2020.\n",
    "def dataframe_strmrpt(sr_month):\n",
    "    responsewx = requests.get(sr_month)\n",
    "    wxdata_sr = responsewx.content\n",
    "    xmlDict = xmltodict.parse(wxdata_sr) #Build storm report dictionary from XML files\n",
    "    \n",
    "    #Initiate lists for each storm report attribuite\n",
    "    id = [] #Report ID of each severe thunderstorm event\n",
    "    mag = [] #Thunderstorm wind gust magnitude in units of miles per hour (MPH)\n",
    "    state = [] #US state of occurrence of severe thunderstorm event\n",
    "    date = [] #Date and time of occurrence of severe thunderstorm event\n",
    "    \n",
    "    if xmlDict['response']['data'].get('storm-report')!=None: #Test for the existence of storm reports for the period of interest\n",
    "        print(\"The key 'storm-report' is present.\\n\") \n",
    "        #If storm reports are present, build the storm report list\n",
    "        for stormreports in xmlDict['response']['data']['storm-report']:\n",
    "            id.append(stormreports['id'])\n",
    "            mag.append(stormreports['magnitude'])\n",
    "            state.append(stormreports['state'])\n",
    "            date.append(stormreports['event_local_time'])\n",
    "\n",
    "        # Reversing a list using reverse() \n",
    "        def Reverse(lst): \n",
    "            lst.reverse() \n",
    "            return lst \n",
    "        #Build Pandas series for each storm report attribuite\n",
    "        sr_id = pd.Series(Reverse(id))\n",
    "        sr_date = pd.Series(Reverse(date))\n",
    "        sr_state = pd.Series(Reverse(state))\n",
    "        sr_mag = pd.Series(Reverse(mag))\n",
    "        #Build a Pandas dataframe from each individual storm report series\n",
    "        #Extract maximum thunderstorm wind measurement in units of miles per hour (MPH) for each semi-monthly period\n",
    "        wxdata_df = pd.DataFrame({'ID':sr_id,'Date':sr_date,'State':sr_state,'Magnitude':sr_mag})\n",
    "        #Clean dataset, remove MPH label from string, save each wind report as an integer \n",
    "        wxdata_df['Magnitude'] = wxdata_df['Magnitude'].str.replace(r'\\M', '')\n",
    "        wxdata_df['Magnitude'] = wxdata_df['Magnitude'].str.replace(r'\\E', '')\n",
    "        wxdata_df['Magnitude'] = wxdata_df['Magnitude'].str.replace(r'\\PH', '')\n",
    "        wxdata_df['Magnitude'] = wxdata_df['Magnitude'].str.replace(r'\\.00', '')\n",
    "        wxdata_df['Magnitude'] = wxdata_df['Magnitude'].astype(int)\n",
    "            \n",
    "    else: \n",
    "        #If no storm reports exist, set analysis parameters = 0 and the dataframe = None\n",
    "        print(\"The key 'storm-report' does not exist in the dictionary.\") \n",
    "        wxdata_df = 'None'\n",
    "        \n",
    "    return wxdata_df #Return storm report dataframe "
   ]
  },
  {
   "cell_type": "code",
   "execution_count": 12,
   "metadata": {},
   "outputs": [],
   "source": [
    "def concat_wxdf(df_wxdata_twg,df_wxdata_mtw):\n",
    "    df_wxdata = df_wxdata_twg.append(df_wxdata_mtw, ignore_index=True)\n",
    "    print(df_wxdata.head())\n",
    "    return df_wxdata\n"
   ]
  },
  {
   "cell_type": "markdown",
   "metadata": {},
   "source": [
    "## API Data Collection: Invoke Requests to call the WxData Storm Reports API Builder."
   ]
  },
  {
   "cell_type": "code",
   "execution_count": 13,
   "metadata": {
    "scrolled": false
   },
   "outputs": [
    {
     "name": "stdout",
     "output_type": "stream",
     "text": [
      "The key 'storm-report' is present.\n",
      "\n",
      "The key 'storm-report' is present.\n",
      "\n",
      "                  Date      ID  Magnitude State\n",
      "0  2019-11-01 01:13:00  812676         67    NJ\n",
      "1  2019-11-01 01:18:00  812761         65    NJ\n",
      "2  2019-11-01 01:21:00  812669         56    NY\n",
      "3  2019-11-01 01:53:00  812612         53    NY\n",
      "4  2019-11-01 12:02:00  812588         59    DE\n",
      "wxdata_nov2019e.csv saved\n",
      "The key 'storm-report' is present.\n",
      "\n",
      "The key 'storm-report' is present.\n",
      "\n",
      "                  Date      ID  Magnitude State\n",
      "0  2019-11-19 13:29:00  817269         44    AZ\n",
      "1  2019-11-19 13:35:00  817271         44    AZ\n",
      "2  2019-11-20 11:50:00  817323         46    CA\n",
      "3  2019-11-20 12:15:00  818510         47    CA\n",
      "4  2019-11-26 22:35:00  819638         60    IA\n",
      "wxdata_nov2019l.csv saved\n"
     ]
    }
   ],
   "source": [
    "#Invoke requests to call the WxData Storm Reports API Builder. Execute an API call for each semi-monthly period between November 2019 and April 2020.\n",
    "#See https://wxdata.com/storm-reports-api-format#event\n",
    "nov2019_1_twg = \"https://wxdata.com/cgi-bin/storm-report-api.pl?version=1.0&format=xml&key=2sGNfZOvAT6BSCY&secret=U6St4Q5fNO1enc8&date=2019-11-01T00:00:00&enddate=2019-11-16T00:00:00&event=tstm+wnd+gst\"\n",
    "nov2019_1_mtw = \"https://wxdata.com/cgi-bin/storm-report-api.pl?version=1.0&format=xml&key=2sGNfZOvAT6BSCY&secret=U6St4Q5fNO1enc8&date=2019-11-01T00:00:00&enddate=2019-11-16T00:00:00&event=marine+tstm+wind\"\n",
    "nov2019_2_twg = \"https://wxdata.com/cgi-bin/storm-report-api.pl?version=1.0&format=xml&key=2sGNfZOvAT6BSCY&secret=U6St4Q5fNO1enc8&date=2019-11-16T00:00:00&enddate=2019-12-01T00:00:00&event=tstm+wnd+gst\"\n",
    "nov2019_2_mtw = \"https://wxdata.com/cgi-bin/storm-report-api.pl?version=1.0&format=xml&key=2sGNfZOvAT6BSCY&secret=U6St4Q5fNO1enc8&date=2019-11-16T00:00:00&enddate=2019-12-01T00:00:00&event=tstm+wnd+gst\"\n",
    "\n",
    "df_wxdata_nov2019e_twg = dataframe_strmrpt(nov2019_1_twg)\n",
    "df_wxdata_nov2019e_mtw = dataframe_strmrpt(nov2019_1_mtw)\n",
    "df_wxdata_nov2019e = concat_wxdf(df_wxdata_nov2019e_twg,df_wxdata_nov2019e_mtw)\n",
    "df_wxdata_nov2019e.to_csv(r'data\\wxdata_nov2019e.csv')\n",
    "print(\"wxdata_nov2019e.csv saved\")\n",
    "\n",
    "df_wxdata_nov2019l_twg = dataframe_strmrpt(nov2019_2_twg)\n",
    "df_wxdata_nov2019l_mtw = dataframe_strmrpt(nov2019_2_mtw)\n",
    "df_wxdata_nov2019l = concat_wxdf(df_wxdata_nov2019l_twg,df_wxdata_nov2019l_mtw)\n",
    "df_wxdata_nov2019l.to_csv(r'data\\wxdata_nov2019l.csv')\n",
    "print(\"wxdata_nov2019l.csv saved\")\n"
   ]
  },
  {
   "cell_type": "code",
   "execution_count": 14,
   "metadata": {},
   "outputs": [
    {
     "name": "stdout",
     "output_type": "stream",
     "text": [
      "The key 'storm-report' is present.\n",
      "\n",
      "The key 'storm-report' is present.\n",
      "\n",
      "                  Date      ID  Magnitude State\n",
      "0  2019-12-14 03:24:00  829460         43    FL\n",
      "1  2019-12-14 04:25:00  829464          0    FL\n",
      "2  2019-12-14 04:25:00  830518          0    FL\n",
      "3  2019-12-14 05:58:00  829477         43    FL\n",
      "4  2019-12-14 06:55:00  829474         39    FL\n",
      "wxdata_dec2019e.csv saved\n",
      "The key 'storm-report' is present.\n",
      "\n",
      "The key 'storm-report' is present.\n",
      "\n",
      "                  Date      ID  Magnitude State\n",
      "0  2019-12-16 17:10:00  831600         54    TN\n",
      "1  2019-12-16 17:52:00  831829         62    AL\n",
      "2  2019-12-16 17:57:00  833654         70    AL\n",
      "3  2019-12-16 18:15:00  832986         47    TN\n",
      "4  2019-12-16 19:13:00  831680         60    MS\n",
      "wxdata_dec20191.csv saved\n"
     ]
    }
   ],
   "source": [
    "dec2019_1_twg = \"https://wxdata.com/cgi-bin/storm-report-api.pl?version=1.0&format=xml&key=2sGNfZOvAT6BSCY&secret=U6St4Q5fNO1enc8&date=2019-12-01T00:00:00&enddate=2019-12-16T00:00:00&event=tstm+wnd+gst\"\n",
    "dec2019_1_mtw = \"https://wxdata.com/cgi-bin/storm-report-api.pl?version=1.0&format=xml&key=2sGNfZOvAT6BSCY&secret=U6St4Q5fNO1enc8&date=2019-12-01T00:00:00&enddate=2019-12-16T00:00:00&event=marine+tstm+wind\"\n",
    "dec2019_2_twg = \"https://wxdata.com/cgi-bin/storm-report-api.pl?version=1.0&format=xml&key=2sGNfZOvAT6BSCY&secret=U6St4Q5fNO1enc8&date=2019-12-16T00:00:00&enddate=2020-01-01T00:00:00&event=tstm+wnd+gst\"\n",
    "dec2019_2_mtw = \"https://wxdata.com/cgi-bin/storm-report-api.pl?version=1.0&format=xml&key=2sGNfZOvAT6BSCY&secret=U6St4Q5fNO1enc8&date=2019-12-16T00:00:00&enddate=2020-01-01T00:00:00&event=marine+tstm+wind\"\n",
    "\n",
    "df_wxdata_dec2019e_twg = dataframe_strmrpt(dec2019_1_twg)\n",
    "df_wxdata_dec2019e_mtw = dataframe_strmrpt(dec2019_1_mtw)\n",
    "df_wxdata_dec2019e = concat_wxdf(df_wxdata_dec2019e_twg,df_wxdata_dec2019e_mtw)\n",
    "df_wxdata_dec2019e.to_csv(r'data\\wxdata_dec2019e.csv')\n",
    "print(\"wxdata_dec2019e.csv saved\")\n",
    "\n",
    "df_wxdata_dec2019l_twg = dataframe_strmrpt(dec2019_2_twg)\n",
    "df_wxdata_dec2019l_mtw = dataframe_strmrpt(dec2019_2_mtw)\n",
    "df_wxdata_dec2019l = concat_wxdf(df_wxdata_dec2019l_twg,df_wxdata_dec2019l_mtw)\n",
    "df_wxdata_dec2019l.to_csv(r'data\\wxdata_dec2019l.csv')\n",
    "print(\"wxdata_dec20191.csv saved\")"
   ]
  },
  {
   "cell_type": "code",
   "execution_count": 15,
   "metadata": {},
   "outputs": [
    {
     "name": "stdout",
     "output_type": "stream",
     "text": [
      "The key 'storm-report' is present.\n",
      "\n",
      "The key 'storm-report' is present.\n",
      "\n",
      "                  Date      ID  Magnitude State\n",
      "0  2020-01-04 12:55:00  839001         39    FL\n",
      "1  2020-01-04 13:22:00  839013         42    FL\n",
      "2  2020-01-04 13:30:00  839012         39    FL\n",
      "3  2020-01-04 14:18:00  839016         41    FL\n",
      "4  2020-01-04 14:34:00  839020         44    FL\n",
      "wxdata_jan2020e.csv saved\n",
      "The key 'storm-report' is present.\n",
      "\n",
      "wxdata_jan2020l.csv saved\n"
     ]
    }
   ],
   "source": [
    "jan2020_1_twg = \"https://wxdata.com/cgi-bin/storm-report-api.pl?version=1.0&format=xml&key=2sGNfZOvAT6BSCY&secret=U6St4Q5fNO1enc8&date=2020-01-01T00:00:00&enddate=2020-01-16T00:00:00&event=tstm+wnd+gst\"\n",
    "jan2020_1_mtw = \"https://wxdata.com/cgi-bin/storm-report-api.pl?version=1.0&format=xml&key=2sGNfZOvAT6BSCY&secret=U6St4Q5fNO1enc8&date=2020-01-01T00:00:00&enddate=2020-01-16T00:00:00&event=marine+tstm+wind\"\n",
    "jan2020_2_mtw = \"https://wxdata.com/cgi-bin/storm-report-api.pl?version=1.0&format=xml&key=2sGNfZOvAT6BSCY&secret=U6St4Q5fNO1enc8&date=2020-01-16T00:00:00&enddate=2020-02-01T00:00:00&event=marine+tstm+wind\"\n",
    "\n",
    "df_wxdata_jan2020e_twg = dataframe_strmrpt(jan2020_1_twg)\n",
    "df_wxdata_jan2020e_mtw = dataframe_strmrpt(jan2020_1_mtw)\n",
    "df_wxdata_jan2020e = concat_wxdf(df_wxdata_jan2020e_twg,df_wxdata_jan2020e_mtw)\n",
    "df_wxdata_jan2020e.to_csv(r'data\\wxdata_jan2020e.csv')\n",
    "print(\"wxdata_jan2020e.csv saved\")\n",
    "\n",
    "df_wxdata_jan2020l = dataframe_strmrpt(jan2020_2_mtw)\n",
    "df_wxdata_jan2020l.to_csv(r'data\\wxdata_jan2020l.csv')\n",
    "print(\"wxdata_jan2020l.csv saved\")"
   ]
  },
  {
   "cell_type": "code",
   "execution_count": 16,
   "metadata": {},
   "outputs": [
    {
     "name": "stdout",
     "output_type": "stream",
     "text": [
      "The key 'storm-report' is present.\n",
      "\n",
      "The key 'storm-report' is present.\n",
      "\n",
      "                  Date      ID  Magnitude State\n",
      "0  2020-02-05 13:40:00  854194         56    LA\n",
      "1  2020-02-05 18:01:00  854316         61    TN\n",
      "2  2020-02-05 18:51:00  854403         58    TN\n",
      "3  2020-02-06 12:25:00  856237         45    FL\n",
      "4  2020-02-06 12:25:00  857913         45    FL\n",
      "wxdata_feb2020e.csv saved\n",
      "The key 'storm-report' is present.\n",
      "\n",
      "The key 'storm-report' is present.\n",
      "\n",
      "                  Date      ID  Magnitude State\n",
      "0  2020-02-21 05:00:00  863018         41    FL\n",
      "1  2020-02-23 15:54:00  863192         60    TX\n",
      "2  2020-02-24 18:52:00  863760         60    TX\n",
      "3  2020-02-24 19:35:00  863443         59    TX\n",
      "4  2020-02-26 15:46:00  864150         41    FL\n",
      "wxdata_feb2020l.csv saved\n"
     ]
    }
   ],
   "source": [
    "feb2020_1_twg = \"https://wxdata.com/cgi-bin/storm-report-api.pl?version=1.0&format=xml&key=2sGNfZOvAT6BSCY&secret=U6St4Q5fNO1enc8&date=2020-02-01T00:00:00&enddate=2020-02-15T00:00:00&event=tstm+wnd+gst\"\n",
    "feb2020_1_mtw = \"https://wxdata.com/cgi-bin/storm-report-api.pl?version=1.0&format=xml&key=2sGNfZOvAT6BSCY&secret=U6St4Q5fNO1enc8&date=2020-02-01T00:00:00&enddate=2020-02-15T00:00:00&event=marine+tstm+wind\"\n",
    "feb2020_2_twg = \"https://wxdata.com/cgi-bin/storm-report-api.pl?version=1.0&format=xml&key=2sGNfZOvAT6BSCY&secret=U6St4Q5fNO1enc8&date=2020-02-15T00:00:00&enddate=2020-03-01T00:00:00&event=tstm+wnd+gst\"\n",
    "feb2020_2_mtw = \"https://wxdata.com/cgi-bin/storm-report-api.pl?version=1.0&format=xml&key=2sGNfZOvAT6BSCY&secret=U6St4Q5fNO1enc8&date=2020-02-15T00:00:00&enddate=2020-03-01T00:00:00&event=marine+tstm+wind\"\n",
    "\n",
    "df_wxdata_feb2020e_twg = dataframe_strmrpt(feb2020_1_twg)\n",
    "df_wxdata_feb2020e_mtw = dataframe_strmrpt(feb2020_1_mtw)\n",
    "df_wxdata_feb2020e = concat_wxdf(df_wxdata_feb2020e_twg,df_wxdata_feb2020e_mtw)\n",
    "df_wxdata_feb2020e.to_csv(r'data\\wxdata_feb2020e.csv')\n",
    "print(\"wxdata_feb2020e.csv saved\")\n",
    "\n",
    "df_wxdata_feb2020l_twg = dataframe_strmrpt(feb2020_2_twg)\n",
    "df_wxdata_feb2020l_mtw = dataframe_strmrpt(feb2020_2_mtw)\n",
    "df_wxdata_feb2020l = concat_wxdf(df_wxdata_feb2020l_twg,df_wxdata_feb2020l_mtw)\n",
    "df_wxdata_feb2020l.to_csv(r'data\\wxdata_feb2020l.csv')\n",
    "print(\"wxdata_feb2020l.csv saved\")\n"
   ]
  },
  {
   "cell_type": "code",
   "execution_count": 17,
   "metadata": {},
   "outputs": [
    {
     "name": "stdout",
     "output_type": "stream",
     "text": [
      "The key 'storm-report' is present.\n",
      "\n",
      "The key 'storm-report' is present.\n",
      "\n",
      "                  Date      ID  Magnitude State\n",
      "0  2020-03-03 01:19:00  866047         60    TN\n",
      "1  2020-03-03 01:19:00  867446         60    TN\n",
      "2  2020-03-03 17:37:00  866310         53    OH\n",
      "3  2020-03-03 18:22:00  866312         45    OH\n",
      "4  2020-03-03 18:40:00  866323         46    OH\n",
      "wxdata_mar2020e.csv saved\n",
      "The key 'storm-report' is present.\n",
      "\n",
      "The key 'storm-report' is present.\n",
      "\n",
      "                  Date      ID  Magnitude State\n",
      "0  2020-03-18 14:55:00  869496         47    AZ\n",
      "1  2020-03-18 15:53:00  869471         62    AZ\n",
      "2  2020-03-18 17:55:00  869475         58    TX\n",
      "3  2020-03-18 18:45:00  869503         57    AZ\n",
      "4  2020-03-18 18:47:00  869500         51    AZ\n",
      "wxdata_mar2020l.csv saved\n"
     ]
    }
   ],
   "source": [
    "mar2020_1_twg = \"https://wxdata.com/cgi-bin/storm-report-api.pl?version=1.0&format=xml&key=2sGNfZOvAT6BSCY&secret=U6St4Q5fNO1enc8&date=2020-03-01T00:00:00&enddate=2020-03-16T00:00:00&event=tstm+wnd+gst\"\n",
    "mar2020_1_mtw = \"https://wxdata.com/cgi-bin/storm-report-api.pl?version=1.0&format=xml&key=2sGNfZOvAT6BSCY&secret=U6St4Q5fNO1enc8&date=2020-03-01T00:00:00&enddate=2020-03-16T00:00:00&event=marine+tstm+wind\"\n",
    "mar2020_2_twg = \"https://wxdata.com/cgi-bin/storm-report-api.pl?version=1.0&format=xml&key=2sGNfZOvAT6BSCY&secret=U6St4Q5fNO1enc8&date=2020-03-16T00:00:00&enddate=2020-04-01T00:00:00&event=tstm+wnd+gst\"\n",
    "mar2020_2_mtw = \"https://wxdata.com/cgi-bin/storm-report-api.pl?version=1.0&format=xml&key=2sGNfZOvAT6BSCY&secret=U6St4Q5fNO1enc8&date=2020-03-16T00:00:00&enddate=2020-04-01T00:00:00&event=marine+tstm+wind\"\n",
    "\n",
    "df_wxdata_mar2020e_twg = dataframe_strmrpt(mar2020_1_twg)\n",
    "df_wxdata_mar2020e_mtw = dataframe_strmrpt(mar2020_1_mtw)\n",
    "df_wxdata_mar2020e = concat_wxdf(df_wxdata_mar2020e_twg,df_wxdata_mar2020e_mtw)\n",
    "df_wxdata_mar2020e.to_csv(r'data\\wxdata_mar2020e.csv')\n",
    "print(\"wxdata_mar2020e.csv saved\")\n",
    "\n",
    "df_wxdata_mar2020l_twg = dataframe_strmrpt(mar2020_2_twg)\n",
    "df_wxdata_mar2020l_mtw = dataframe_strmrpt(mar2020_2_mtw)\n",
    "df_wxdata_mar2020l = concat_wxdf(df_wxdata_mar2020l_twg,df_wxdata_mar2020l_mtw)\n",
    "df_wxdata_mar2020l.to_csv(r'data\\wxdata_mar2020l.csv')\n",
    "print(\"wxdata_mar2020l.csv saved\")\n"
   ]
  },
  {
   "cell_type": "code",
   "execution_count": 19,
   "metadata": {},
   "outputs": [
    {
     "name": "stdout",
     "output_type": "stream",
     "text": [
      "The key 'storm-report' is present.\n",
      "\n",
      "The key 'storm-report' is present.\n",
      "\n",
      "                  Date      ID  Magnitude State\n",
      "0  2020-04-03 17:57:00  874756         60    TX\n",
      "1  2020-04-05 19:13:00  874953         56    WY\n",
      "2  2020-04-07 16:15:00  875129         58    MD\n",
      "3  2020-04-07 19:10:00  875507         60    VA\n",
      "4  2020-04-07 22:18:00  875320         63    MI\n",
      "wxdata_apr2020e.csv saved\n",
      "The key 'storm-report' is present.\n",
      "\n",
      "The key 'storm-report' is present.\n",
      "\n",
      "                  Date      ID  Magnitude State\n",
      "0  2020-04-18 11:06:00  883680         44    FL\n",
      "1  2020-04-18 11:19:00  883679         44    FL\n",
      "2  2020-04-18 13:06:00  883499         41    FL\n",
      "3  2020-04-18 13:06:00  883585         41    FL\n",
      "4  2020-04-18 13:21:00  883586         43    FL\n",
      "wxdata_apr2020l.csv saved\n"
     ]
    }
   ],
   "source": [
    "apr2020_1_twg = \"https://wxdata.com/cgi-bin/storm-report-api.pl?version=1.0&format=xml&key=2sGNfZOvAT6BSCY&secret=U6St4Q5fNO1enc8&date=2020-04-01T00:00:00&enddate=2020-04-16T00:00:00&event=tstm+wnd+gst\"\n",
    "apr2020_1_mtw = \"https://wxdata.com/cgi-bin/storm-report-api.pl?version=1.0&format=xml&key=2sGNfZOvAT6BSCY&secret=U6St4Q5fNO1enc8&date=2020-04-01T00:00:00&enddate=2020-04-16T00:00:00&event=marine+tstm+wind\"\n",
    "apr2020_2_twg = \"https://wxdata.com/cgi-bin/storm-report-api.pl?version=1.0&format=xml&key=2sGNfZOvAT6BSCY&secret=U6St4Q5fNO1enc8&date=2020-04-16T00:00:00&enddate=2020-04-30T23:00:00&event=tstm+wnd+gst\"\n",
    "apr2020_2_mtw = \"https://wxdata.com/cgi-bin/storm-report-api.pl?version=1.0&format=xml&key=2sGNfZOvAT6BSCY&secret=U6St4Q5fNO1enc8&date=2020-04-16T00:00:00&enddate=2020-04-30T23:00:00&event=marine+tstm+wind\"\n",
    "\n",
    "df_wxdata_apr2020e_twg = dataframe_strmrpt(apr2020_1_twg)\n",
    "df_wxdata_apr2020e_mtw = dataframe_strmrpt(apr2020_1_mtw)\n",
    "df_wxdata_apr2020e = concat_wxdf(df_wxdata_apr2020e_twg,df_wxdata_apr2020e_mtw)\n",
    "df_wxdata_apr2020e.to_csv(r'data\\wxdata_apr2020e.csv')\n",
    "print(\"wxdata_apr2020e.csv saved\")\n",
    "\n",
    "df_wxdata_apr2020l_twg = dataframe_strmrpt(apr2020_2_twg)\n",
    "df_wxdata_apr2020l_mtw = dataframe_strmrpt(apr2020_2_mtw)\n",
    "df_wxdata_apr2020l = concat_wxdf(df_wxdata_apr2020l_twg,df_wxdata_apr2020l_mtw)\n",
    "df_wxdata_apr2020l.to_csv(r'data\\wxdata_apr2020l.csv')\n",
    "print(\"wxdata_apr2020l.csv saved\")"
   ]
  },
  {
   "cell_type": "code",
   "execution_count": 20,
   "metadata": {},
   "outputs": [
    {
     "name": "stdout",
     "output_type": "stream",
     "text": [
      "The key 'storm-report' is present.\n",
      "\n",
      "wxdata_nov2020e.csv saved\n",
      "The key 'storm-report' is present.\n",
      "\n",
      "The key 'storm-report' is present.\n",
      "\n",
      "                  Date      ID  Magnitude State\n",
      "0  2020-11-23 11:50:00  951253         63    MA\n",
      "1  2020-11-23 12:16:00  951254         61    MA\n",
      "2  2020-11-23 12:19:00  951255         65    MA\n",
      "3  2020-11-24 14:53:00  951737         64    OK\n",
      "4  2020-11-24 15:25:00  951743         58    OK\n",
      "wxdata_nov2020l.csv saved\n"
     ]
    }
   ],
   "source": [
    "#Invoke requests to call the WxData Storm Reports API Builder. Execute an API call for each semi-monthly period between November 2019 and April 2020.\n",
    "#See https://wxdata.com/storm-reports-api-format#event\n",
    "#nov2020_1_twg = \"https://wxdata.com/cgi-bin/storm-report-api.pl?version=1.0&format=xml&key=2sGNfZOvAT6BSCY&secret=U6St4Q5fNO1enc8&date=2020-11-01T00:00:00&enddate=2020-11-16T00:00:00&event=tstm+wnd+gst\"\n",
    "nov2020_1_mtw = \"https://wxdata.com/cgi-bin/storm-report-api.pl?version=1.0&format=xml&key=2sGNfZOvAT6BSCY&secret=U6St4Q5fNO1enc8&date=2020-11-01T00:00:00&enddate=2020-11-16T00:00:00&event=marine+tstm+wind\"\n",
    "nov2020_2_twg = \"https://wxdata.com/cgi-bin/storm-report-api.pl?version=1.0&format=xml&key=2sGNfZOvAT6BSCY&secret=U6St4Q5fNO1enc8&date=2020-11-16T00:00:00&enddate=2020-12-01T00:00:00&event=tstm+wnd+gst\"\n",
    "nov2020_2_mtw = \"https://wxdata.com/cgi-bin/storm-report-api.pl?version=1.0&format=xml&key=2sGNfZOvAT6BSCY&secret=U6St4Q5fNO1enc8&date=2020-11-16T00:00:00&enddate=2020-12-01T00:00:00&event=tstm+wnd+gst\"\n",
    "\n",
    "#df_wxdata_nov2020e_twg = dataframe_strmrpt(nov2020_1_twg)\n",
    "#df_wxdata_nov2020e_twg.to_csv(r'data\\wxdata_nov2020e_twg.csv')\n",
    "#print(\"wxdata_nov2020e_twg.csv saved\")\n",
    "df_wxdata_nov2020e = dataframe_strmrpt(nov2020_1_mtw)\n",
    "df_wxdata_nov2020e.to_csv(r'data\\wxdata_nov2020e.csv')\n",
    "print(\"wxdata_nov2020e.csv saved\")\n",
    "\n",
    "df_wxdata_nov2020l_twg = dataframe_strmrpt(nov2020_2_twg)\n",
    "df_wxdata_nov2020l_mtw = dataframe_strmrpt(nov2020_2_mtw)\n",
    "df_wxdata_nov2020l = concat_wxdf(df_wxdata_nov2020l_twg,df_wxdata_nov2020l_mtw)\n",
    "df_wxdata_nov2020l.to_csv(r'data\\wxdata_nov2020l.csv')\n",
    "print(\"wxdata_nov2020l.csv saved\")\n"
   ]
  },
  {
   "cell_type": "code",
   "execution_count": null,
   "metadata": {},
   "outputs": [],
   "source": []
  }
 ],
 "metadata": {
  "kernelspec": {
   "display_name": "Python 2",
   "language": "python",
   "name": "python2"
  },
  "language_info": {
   "codemirror_mode": {
    "name": "ipython",
    "version": 2
   },
   "file_extension": ".py",
   "mimetype": "text/x-python",
   "name": "python",
   "nbconvert_exporter": "python",
   "pygments_lexer": "ipython2",
   "version": "2.7.16"
  }
 },
 "nbformat": 4,
 "nbformat_minor": 2
}
