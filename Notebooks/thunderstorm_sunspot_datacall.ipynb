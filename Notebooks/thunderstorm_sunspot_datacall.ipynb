{
 "cells": [
  {
   "cell_type": "markdown",
   "metadata": {},
   "source": [
    "# DATA 601 Final Project\n",
    "# Severe Thunderstorm Climatology vs Sunspot Number 2019-2020\n",
    "## Python weather analysis application that compares the occurrence of severe thunderstorm activity occurring over the continental Unites States to daily international sunspot number measurements."
   ]
  },
  {
   "cell_type": "code",
   "execution_count": 1,
   "metadata": {},
   "outputs": [],
   "source": [
    "#Load modules and invoke WxData API\n",
    "from __future__ import print_function, division\n",
    "import numpy as np\n",
    "import pandas as pd \n",
    "import sys\n",
    "import requests\n",
    "import xmltodict"
   ]
  },
  {
   "cell_type": "markdown",
   "metadata": {},
   "source": [
    "## Data Cleaning: Define a function that builds a storm report listing for each semi-monthly period between November 2019 and April 2020."
   ]
  },
  {
   "cell_type": "code",
   "execution_count": 2,
   "metadata": {},
   "outputs": [],
   "source": [
    "#Function that builds a storm report listing for each semi-monthly period between November 2019 and April 2020.\n",
    "def dataframe_strmrpt(sr_month):\n",
    "    responsewx = requests.get(sr_month)\n",
    "    wxdata_sr = responsewx.content\n",
    "    xmlDict = xmltodict.parse(wxdata_sr) #Build storm report dictionary from XML files\n",
    "    \n",
    "    #Initiate lists for each storm report attribuite\n",
    "    id = [] #Report ID of each severe thunderstorm event\n",
    "    mag = [] #Thunderstorm wind gust magnitude in units of miles per hour (MPH)\n",
    "    state = [] #US state of occurrence of severe thunderstorm event\n",
    "    date = [] #Date and time of occurrence of severe thunderstorm event\n",
    "    \n",
    "    if xmlDict['response']['data'].get('storm-report')!=None: #Test for the existence of storm reports for the period of interest\n",
    "        print(\"The key 'storm-report' is present.\\n\") \n",
    "        #If storm reports are present, build the storm report list\n",
    "        for stormreports in xmlDict['response']['data']['storm-report']:\n",
    "            id.append(stormreports['id'])\n",
    "            mag.append(stormreports['magnitude'])\n",
    "            state.append(stormreports['state'])\n",
    "            date.append(stormreports['event_local_time'])\n",
    "\n",
    "        # Reversing a list using reverse() \n",
    "        def Reverse(lst): \n",
    "            lst.reverse() \n",
    "            return lst \n",
    "        #Build Pandas series for each storm report attribuite\n",
    "        sr_id = pd.Series(Reverse(id))\n",
    "        sr_date = pd.Series(Reverse(date))\n",
    "        sr_state = pd.Series(Reverse(state))\n",
    "        sr_mag = pd.Series(Reverse(mag))\n",
    "        #Build a Pandas dataframe from each individual storm report series\n",
    "        #Extract maximum thunderstorm wind measurement in units of miles per hour (MPH) for each semi-monthly period\n",
    "        wxdata_df = pd.DataFrame({'ID':sr_id,'Date':sr_date,'State':sr_state,'Magnitude':sr_mag})\n",
    "        #Clean dataset, remove MPH label from string, save each wind report as an integer \n",
    "        wxdata_df['Magnitude'] = wxdata_df['Magnitude'].str.replace(r'\\M', '')\n",
    "        wxdata_df['Magnitude'] = wxdata_df['Magnitude'].str.replace(r'\\E', '')\n",
    "        wxdata_df['Magnitude'] = wxdata_df['Magnitude'].str.replace(r'\\PH', '')\n",
    "        wxdata_df['Magnitude'] = wxdata_df['Magnitude'].str.replace(r'\\.00', '')\n",
    "        wxdata_df['Magnitude'] = wxdata_df['Magnitude'].astype(int)\n",
    "        maxmag = np.amax(wxdata_df['Magnitude']) #Extract maximum wind gust magnitude for semi-monthly period\n",
    "        strmrpt_nr = len(wxdata_df.Magnitude) #Count number of storm reports for semi-monthly period\n",
    "    \n",
    "    else: \n",
    "        #If no storm reports exist, set analysis parameters = 0 and the dataframe = None\n",
    "        print(\"The key 'storm-report' does not exist in the dictionary.\") \n",
    "        wxdata_df = 'None'\n",
    "        strmrpt_nr = 0\n",
    "        maxmag = 0\n",
    "    return wxdata_df #Return storm report dataframe and descriptive statistics"
   ]
  },
  {
   "cell_type": "markdown",
   "metadata": {},
   "source": [
    "## API Data Collection: Invoke Requests to call the WxData Storm Reports API Builder."
   ]
  },
  {
   "cell_type": "code",
   "execution_count": 6,
   "metadata": {
    "scrolled": false
   },
   "outputs": [
    {
     "name": "stdout",
     "output_type": "stream",
     "text": [
      "The key 'storm-report' is present.\n",
      "\n",
      "wxdata_nov2019e_twg.csv saved\n",
      "The key 'storm-report' is present.\n",
      "\n",
      "wxdata_nov2019e_mtw.csv saved\n",
      "The key 'storm-report' is present.\n",
      "\n",
      "wxdata_nov2019l_twg.csv saved\n",
      "The key 'storm-report' is present.\n",
      "\n",
      "wxdata_nov2019l_mtw.csv saved\n"
     ]
    }
   ],
   "source": [
    "#Invoke requests to call the WxData Storm Reports API Builder. Execute an API call for each semi-monthly period between November 2019 and April 2020.\n",
    "#See https://wxdata.com/storm-reports-api-format#event\n",
    "nov2019_1_twg = \"https://wxdata.com/cgi-bin/storm-report-api.pl?version=1.0&format=xml&key=2sGNfZOvAT6BSCY&secret=U6St4Q5fNO1enc8&date=2019-11-01T00:00:00&enddate=2019-11-16T00:00:00&event=tstm+wnd+gst\"\n",
    "nov2019_1_mtw = \"https://wxdata.com/cgi-bin/storm-report-api.pl?version=1.0&format=xml&key=2sGNfZOvAT6BSCY&secret=U6St4Q5fNO1enc8&date=2019-11-01T00:00:00&enddate=2019-11-16T00:00:00&event=marine+tstm+wind\"\n",
    "nov2019_2_twg = \"https://wxdata.com/cgi-bin/storm-report-api.pl?version=1.0&format=xml&key=2sGNfZOvAT6BSCY&secret=U6St4Q5fNO1enc8&date=2019-11-16T00:00:00&enddate=2019-12-01T00:00:00&event=tstm+wnd+gst\"\n",
    "nov2019_2_mtw = \"https://wxdata.com/cgi-bin/storm-report-api.pl?version=1.0&format=xml&key=2sGNfZOvAT6BSCY&secret=U6St4Q5fNO1enc8&date=2019-11-16T00:00:00&enddate=2019-12-01T00:00:00&event=tstm+wnd+gst\"\n",
    "\n",
    "df_wxdata_nov2019e_twg = dataframe_strmrpt(nov2019_1_twg)\n",
    "df_wxdata_nov2019e_twg.to_csv(r'data\\wxdata_nov2019e_twg.csv')\n",
    "print(\"wxdata_nov2019e_twg.csv saved\")\n",
    "df_wxdata_nov2019e_mtw = dataframe_strmrpt(nov2019_1_mtw)\n",
    "df_wxdata_nov2019e_mtw.to_csv(r'data\\wxdata_nov2019e_mtw.csv')\n",
    "print(\"wxdata_nov2019e_mtw.csv saved\")\n",
    "df_wxdata_nov2019l_twg = dataframe_strmrpt(nov2019_2_twg)\n",
    "df_wxdata_nov2019l_twg.to_csv(r'data\\wxdata_nov2019l_twg.csv')\n",
    "print(\"wxdata_nov2019l_twg.csv saved\")\n",
    "df_wxdata_nov2019l_mtw = dataframe_strmrpt(nov2019_2_mtw)\n",
    "df_wxdata_nov2019l_mtw.to_csv(r'data\\wxdata_nov2019l_mtw.csv')\n",
    "print(\"wxdata_nov2019l_mtw.csv saved\")\n"
   ]
  },
  {
   "cell_type": "code",
   "execution_count": 3,
   "metadata": {},
   "outputs": [
    {
     "name": "stdout",
     "output_type": "stream",
     "text": [
      "The key 'storm-report' is present.\n",
      "\n",
      "wxdata_dec2019e_twg.csv saved\n",
      "The key 'storm-report' is present.\n",
      "\n",
      "wxdata_dec2019e_mtw.csv saved\n",
      "The key 'storm-report' is present.\n",
      "\n",
      "wxdata_dec20191_twg.csv saved\n",
      "The key 'storm-report' is present.\n",
      "\n",
      "wxdata_dec20191_mtw.csv saved\n"
     ]
    }
   ],
   "source": [
    "dec2019_1_twg = \"https://wxdata.com/cgi-bin/storm-report-api.pl?version=1.0&format=xml&key=2sGNfZOvAT6BSCY&secret=U6St4Q5fNO1enc8&date=2019-12-01T00:00:00&enddate=2019-12-16T00:00:00&event=tstm+wnd+gst\"\n",
    "dec2019_1_mtw = \"https://wxdata.com/cgi-bin/storm-report-api.pl?version=1.0&format=xml&key=2sGNfZOvAT6BSCY&secret=U6St4Q5fNO1enc8&date=2019-12-01T00:00:00&enddate=2019-12-16T00:00:00&event=marine+tstm+wind\"\n",
    "dec2019_2_twg = \"https://wxdata.com/cgi-bin/storm-report-api.pl?version=1.0&format=xml&key=2sGNfZOvAT6BSCY&secret=U6St4Q5fNO1enc8&date=2019-12-16T00:00:00&enddate=2020-01-01T00:00:00&event=tstm+wnd+gst\"\n",
    "dec2019_2_mtw = \"https://wxdata.com/cgi-bin/storm-report-api.pl?version=1.0&format=xml&key=2sGNfZOvAT6BSCY&secret=U6St4Q5fNO1enc8&date=2019-12-16T00:00:00&enddate=2020-01-01T00:00:00&event=marine+tstm+wind\"\n",
    "\n",
    "df_wxdata_dec2019e_twg = dataframe_strmrpt(dec2019_1_twg)\n",
    "df_wxdata_dec2019e_twg.to_csv(r'data\\df_wxdata_dec2019e_twg.csv')\n",
    "print(\"wxdata_dec2019e_twg.csv saved\")\n",
    "df_wxdata_dec2019e_mtw = dataframe_strmrpt(dec2019_1_mtw)\n",
    "df_wxdata_dec2019e_mtw.to_csv(r'data\\df_wxdata_dec2019e_mtw.csv')\n",
    "print(\"wxdata_dec2019e_mtw.csv saved\")\n",
    "df_wxdata_dec2019l_twg = dataframe_strmrpt(dec2019_2_twg)\n",
    "df_wxdata_dec2019l_twg.to_csv(r'data\\df_wxdata_dec2019l_twg.csv')\n",
    "print(\"wxdata_dec20191_twg.csv saved\")\n",
    "df_wxdata_dec2019l_mtw = dataframe_strmrpt(dec2019_2_mtw)\n",
    "df_wxdata_dec2019l_mtw.to_csv(r'data\\df_wxdata_dec2019l_mtw.csv')\n",
    "print(\"wxdata_dec20191_mtw.csv saved\")"
   ]
  },
  {
   "cell_type": "code",
   "execution_count": 4,
   "metadata": {},
   "outputs": [
    {
     "name": "stdout",
     "output_type": "stream",
     "text": [
      "The key 'storm-report' is present.\n",
      "\n",
      "wxdata_jan2020e_twg.csv saved\n",
      "The key 'storm-report' is present.\n",
      "\n",
      "wxdata_jan2020e_mtw.csv saved\n",
      "The key 'storm-report' is present.\n",
      "\n",
      "wxdata_jan2020l_mtw.csv saved\n"
     ]
    }
   ],
   "source": [
    "jan2020_1_twg = \"https://wxdata.com/cgi-bin/storm-report-api.pl?version=1.0&format=xml&key=2sGNfZOvAT6BSCY&secret=U6St4Q5fNO1enc8&date=2020-01-01T00:00:00&enddate=2020-01-16T00:00:00&event=tstm+wnd+gst\"\n",
    "jan2020_1_mtw = \"https://wxdata.com/cgi-bin/storm-report-api.pl?version=1.0&format=xml&key=2sGNfZOvAT6BSCY&secret=U6St4Q5fNO1enc8&date=2020-01-01T00:00:00&enddate=2020-01-16T00:00:00&event=marine+tstm+wind\"\n",
    "jan2020_2_mtw = \"https://wxdata.com/cgi-bin/storm-report-api.pl?version=1.0&format=xml&key=2sGNfZOvAT6BSCY&secret=U6St4Q5fNO1enc8&date=2020-01-16T00:00:00&enddate=2020-02-01T00:00:00&event=marine+tstm+wind\"\n",
    "\n",
    "df_wxdata_jan2020e_twg = dataframe_strmrpt(jan2020_1_twg)\n",
    "df_wxdata_jan2020e_twg.to_csv(r'data\\df_wxdata_jan2020e_twg.csv')\n",
    "print(\"wxdata_jan2020e_twg.csv saved\")\n",
    "df_wxdata_jan2020e_mtw = dataframe_strmrpt(jan2020_1_mtw)\n",
    "df_wxdata_jan2020e_mtw.to_csv(r'data\\df_wxdata_jan2020e_mtw.csv')\n",
    "print(\"wxdata_jan2020e_mtw.csv saved\")\n",
    "df_wxdata_jan2020l_mtw = dataframe_strmrpt(jan2020_2_mtw)\n",
    "df_wxdata_jan2020l_mtw.to_csv(r'data\\df_wxdata_jan2020l_mtw.csv')\n",
    "print(\"wxdata_jan2020l_mtw.csv saved\")"
   ]
  },
  {
   "cell_type": "code",
   "execution_count": 5,
   "metadata": {},
   "outputs": [
    {
     "name": "stdout",
     "output_type": "stream",
     "text": [
      "The key 'storm-report' is present.\n",
      "\n",
      "wxdata_feb2020e_twg.csv saved\n",
      "The key 'storm-report' is present.\n",
      "\n",
      "wxdata_feb2020e_mtw.csv saved\n",
      "The key 'storm-report' is present.\n",
      "\n",
      "wxdata_feb2020l_twg.csv saved\n",
      "The key 'storm-report' is present.\n",
      "\n",
      "wxdata_feb2020l_mtw.csv saved\n"
     ]
    }
   ],
   "source": [
    "feb2020_1_twg = \"https://wxdata.com/cgi-bin/storm-report-api.pl?version=1.0&format=xml&key=2sGNfZOvAT6BSCY&secret=U6St4Q5fNO1enc8&date=2020-02-01T00:00:00&enddate=2020-02-15T00:00:00&event=tstm+wnd+gst\"\n",
    "feb2020_1_mtw = \"https://wxdata.com/cgi-bin/storm-report-api.pl?version=1.0&format=xml&key=2sGNfZOvAT6BSCY&secret=U6St4Q5fNO1enc8&date=2020-02-01T00:00:00&enddate=2020-02-15T00:00:00&event=marine+tstm+wind\"\n",
    "feb2020_2_twg = \"https://wxdata.com/cgi-bin/storm-report-api.pl?version=1.0&format=xml&key=2sGNfZOvAT6BSCY&secret=U6St4Q5fNO1enc8&date=2020-02-15T00:00:00&enddate=2020-03-01T00:00:00&event=tstm+wnd+gst\"\n",
    "feb2020_2_mtw = \"https://wxdata.com/cgi-bin/storm-report-api.pl?version=1.0&format=xml&key=2sGNfZOvAT6BSCY&secret=U6St4Q5fNO1enc8&date=2020-02-15T00:00:00&enddate=2020-03-01T00:00:00&event=marine+tstm+wind\"\n",
    "\n",
    "df_wxdata_feb2020e_twg = dataframe_strmrpt(feb2020_1_twg)\n",
    "df_wxdata_feb2020e_twg.to_csv(r'data\\df_wxdata_feb2020e_twg.csv')\n",
    "print(\"wxdata_feb2020e_twg.csv saved\")\n",
    "df_wxdata_feb2020e_mtw = dataframe_strmrpt(feb2020_1_mtw)\n",
    "df_wxdata_feb2020e_mtw.to_csv(r'data\\df_wxdata_feb2020e_mtw.csv')\n",
    "print(\"wxdata_feb2020e_mtw.csv saved\")\n",
    "df_wxdata_feb2020l_twg = dataframe_strmrpt(feb2020_2_twg)\n",
    "df_wxdata_feb2020l_twg.to_csv(r'data\\df_wxdata_feb2020l_twg.csv')\n",
    "print(\"wxdata_feb2020l_twg.csv saved\")\n",
    "df_wxdata_feb2020l_mtw = dataframe_strmrpt(feb2020_2_mtw)\n",
    "df_wxdata_feb2020l_mtw.to_csv(r'data\\df_wxdata_feb2020l_mtw.csv')\n",
    "print(\"wxdata_feb2020l_mtw.csv saved\")\n",
    "\n"
   ]
  },
  {
   "cell_type": "code",
   "execution_count": 3,
   "metadata": {},
   "outputs": [
    {
     "name": "stdout",
     "output_type": "stream",
     "text": [
      "The key 'storm-report' is present.\n",
      "\n",
      "wxdata_mar2020e_twg.csv saved\n",
      "The key 'storm-report' is present.\n",
      "\n",
      "wxdata_mar2020e_mtw.csv saved\n",
      "The key 'storm-report' is present.\n",
      "\n",
      "wxdata_mar2020l_twg.csv saved\n",
      "The key 'storm-report' is present.\n",
      "\n",
      "wxdata_mar2020l_mtw.csv saved\n"
     ]
    }
   ],
   "source": [
    "mar2020_1_twg = \"https://wxdata.com/cgi-bin/storm-report-api.pl?version=1.0&format=xml&key=2sGNfZOvAT6BSCY&secret=U6St4Q5fNO1enc8&date=2020-03-01T00:00:00&enddate=2020-03-16T00:00:00&event=tstm+wnd+gst\"\n",
    "mar2020_1_mtw = \"https://wxdata.com/cgi-bin/storm-report-api.pl?version=1.0&format=xml&key=2sGNfZOvAT6BSCY&secret=U6St4Q5fNO1enc8&date=2020-03-01T00:00:00&enddate=2020-03-16T00:00:00&event=marine+tstm+wind\"\n",
    "mar2020_2_twg = \"https://wxdata.com/cgi-bin/storm-report-api.pl?version=1.0&format=xml&key=2sGNfZOvAT6BSCY&secret=U6St4Q5fNO1enc8&date=2020-03-16T00:00:00&enddate=2020-04-01T00:00:00&event=tstm+wnd+gst\"\n",
    "mar2020_2_mtw = \"https://wxdata.com/cgi-bin/storm-report-api.pl?version=1.0&format=xml&key=2sGNfZOvAT6BSCY&secret=U6St4Q5fNO1enc8&date=2020-03-16T00:00:00&enddate=2020-04-01T00:00:00&event=marine+tstm+wind\"\n",
    "\n",
    "df_wxdata_mar2020e_twg = dataframe_strmrpt(mar2020_1_twg)\n",
    "df_wxdata_mar2020e_twg.to_csv(r'data\\df_wxdata_mar2020e_twg.csv')\n",
    "print(\"wxdata_mar2020e_twg.csv saved\")\n",
    "df_wxdata_mar2020e_mtw = dataframe_strmrpt(mar2020_1_mtw)\n",
    "df_wxdata_mar2020e_mtw.to_csv(r'data\\df_wxdata_mar2020e_mtw.csv')\n",
    "print(\"wxdata_mar2020e_mtw.csv saved\")\n",
    "df_wxdata_mar2020l_twg = dataframe_strmrpt(mar2020_2_twg)\n",
    "df_wxdata_mar2020l_twg.to_csv(r'data\\df_wxdata_mar2020l_twg.csv')\n",
    "print(\"wxdata_mar2020l_twg.csv saved\")\n",
    "df_wxdata_mar2020l_mtw = dataframe_strmrpt(mar2020_2_mtw)\n",
    "df_wxdata_mar2020l_mtw.to_csv(r'data\\df_wxdata_mar2020l_mtw.csv')\n",
    "print(\"wxdata_mar2020l_mtw.csv saved\")\n"
   ]
  },
  {
   "cell_type": "code",
   "execution_count": 4,
   "metadata": {},
   "outputs": [
    {
     "name": "stdout",
     "output_type": "stream",
     "text": [
      "The key 'storm-report' is present.\n",
      "\n",
      "wxdata_apr2020e_twg.csv saved\n",
      "The key 'storm-report' is present.\n",
      "\n",
      "wxdata_apr2020e_mtw.csv saved\n",
      "The key 'storm-report' is present.\n",
      "\n",
      "wxdata_apr2020l_twg.csv saved\n",
      "The key 'storm-report' is present.\n",
      "\n",
      "wxdata_apr2020l_mtw.csv saved\n"
     ]
    }
   ],
   "source": [
    "apr2020_1_twg = \"https://wxdata.com/cgi-bin/storm-report-api.pl?version=1.0&format=xml&key=2sGNfZOvAT6BSCY&secret=U6St4Q5fNO1enc8&date=2020-04-01T00:00:00&enddate=2020-04-16T00:00:00&event=tstm+wnd+gst\"\n",
    "apr2020_1_mtw = \"https://wxdata.com/cgi-bin/storm-report-api.pl?version=1.0&format=xml&key=2sGNfZOvAT6BSCY&secret=U6St4Q5fNO1enc8&date=2020-04-01T00:00:00&enddate=2020-04-16T00:00:00&event=marine+tstm+wind\"\n",
    "apr2020_2_twg = \"https://wxdata.com/cgi-bin/storm-report-api.pl?version=1.0&format=xml&key=2sGNfZOvAT6BSCY&secret=U6St4Q5fNO1enc8&date=2020-04-16T00:00:00&enddate=2020-04-30T23:00:00&event=tstm+wnd+gst\"\n",
    "apr2020_2_mtw = \"https://wxdata.com/cgi-bin/storm-report-api.pl?version=1.0&format=xml&key=2sGNfZOvAT6BSCY&secret=U6St4Q5fNO1enc8&date=2020-04-16T00:00:00&enddate=2020-04-30T23:00:00&event=marine+tstm+wind\"\n",
    "\n",
    "df_wxdata_apr2020e_twg = dataframe_strmrpt(apr2020_1_twg)\n",
    "df_wxdata_apr2020e_twg.to_csv(r'data\\df_wxdata_apr2020e_twg.csv')\n",
    "print(\"wxdata_apr2020e_twg.csv saved\")\n",
    "df_wxdata_apr2020e_mtw = dataframe_strmrpt(apr2020_1_mtw)\n",
    "df_wxdata_apr2020e_mtw.to_csv(r'data\\df_wxdata_apr2020e_mtw.csv')\n",
    "print(\"wxdata_apr2020e_mtw.csv saved\")\n",
    "df_wxdata_apr2020l_twg = dataframe_strmrpt(apr2020_2_twg)\n",
    "df_wxdata_apr2020l_twg.to_csv(r'data\\df_wxdata_apr2020l_twg.csv')\n",
    "print(\"wxdata_apr2020l_twg.csv saved\")\n",
    "df_wxdata_apr2020l_mtw = dataframe_strmrpt(apr2020_2_mtw)\n",
    "df_wxdata_apr2020l_mtw.to_csv(r'data\\df_wxdata_apr2020l_mtw.csv')\n",
    "print(\"wxdata_apr2020l_mtw.csv saved\")"
   ]
  },
  {
   "cell_type": "code",
   "execution_count": 4,
   "metadata": {},
   "outputs": [
    {
     "name": "stdout",
     "output_type": "stream",
     "text": [
      "The key 'storm-report' is present.\n",
      "\n",
      "wxdata_nov2020e_mtw.csv saved\n",
      "The key 'storm-report' is present.\n",
      "\n",
      "wxdata_nov2020l_twg.csv saved\n",
      "The key 'storm-report' is present.\n",
      "\n",
      "wxdata_nov2020l_mtw.csv saved\n"
     ]
    }
   ],
   "source": [
    "#Invoke requests to call the WxData Storm Reports API Builder. Execute an API call for each semi-monthly period between November 2019 and April 2020.\n",
    "#See https://wxdata.com/storm-reports-api-format#event\n",
    "#nov2020_1_twg = \"https://wxdata.com/cgi-bin/storm-report-api.pl?version=1.0&format=xml&key=2sGNfZOvAT6BSCY&secret=U6St4Q5fNO1enc8&date=2020-11-01T00:00:00&enddate=2020-11-16T00:00:00&event=tstm+wnd+gst\"\n",
    "nov2020_1_mtw = \"https://wxdata.com/cgi-bin/storm-report-api.pl?version=1.0&format=xml&key=2sGNfZOvAT6BSCY&secret=U6St4Q5fNO1enc8&date=2020-11-01T00:00:00&enddate=2020-11-16T00:00:00&event=marine+tstm+wind\"\n",
    "nov2020_2_twg = \"https://wxdata.com/cgi-bin/storm-report-api.pl?version=1.0&format=xml&key=2sGNfZOvAT6BSCY&secret=U6St4Q5fNO1enc8&date=2020-11-16T00:00:00&enddate=2020-12-01T00:00:00&event=tstm+wnd+gst\"\n",
    "nov2020_2_mtw = \"https://wxdata.com/cgi-bin/storm-report-api.pl?version=1.0&format=xml&key=2sGNfZOvAT6BSCY&secret=U6St4Q5fNO1enc8&date=2020-11-16T00:00:00&enddate=2020-12-01T00:00:00&event=tstm+wnd+gst\"\n",
    "\n",
    "#df_wxdata_nov2020e_twg = dataframe_strmrpt(nov2020_1_twg)\n",
    "#df_wxdata_nov2020e_twg.to_csv(r'data\\wxdata_nov2020e_twg.csv')\n",
    "#print(\"wxdata_nov2020e_twg.csv saved\")\n",
    "df_wxdata_nov2020e_mtw = dataframe_strmrpt(nov2020_1_mtw)\n",
    "df_wxdata_nov2020e_mtw.to_csv(r'data\\wxdata_nov2020e_mtw.csv')\n",
    "print(\"wxdata_nov2020e_mtw.csv saved\")\n",
    "df_wxdata_nov2020l_twg = dataframe_strmrpt(nov2020_2_twg)\n",
    "df_wxdata_nov2020l_twg.to_csv(r'data\\wxdata_nov2020l_twg.csv')\n",
    "print(\"wxdata_nov2020l_twg.csv saved\")\n",
    "df_wxdata_nov2020l_mtw = dataframe_strmrpt(nov2020_2_mtw)\n",
    "df_wxdata_nov2020l_mtw.to_csv(r'data\\wxdata_nov2020l_mtw.csv')\n",
    "print(\"wxdata_nov2020l_mtw.csv saved\")\n"
   ]
  },
  {
   "cell_type": "code",
   "execution_count": null,
   "metadata": {},
   "outputs": [],
   "source": []
  }
 ],
 "metadata": {
  "kernelspec": {
   "display_name": "Python 2",
   "language": "python",
   "name": "python2"
  },
  "language_info": {
   "codemirror_mode": {
    "name": "ipython",
    "version": 2
   },
   "file_extension": ".py",
   "mimetype": "text/x-python",
   "name": "python",
   "nbconvert_exporter": "python",
   "pygments_lexer": "ipython2",
   "version": "2.7.16"
  }
 },
 "nbformat": 4,
 "nbformat_minor": 2
}
